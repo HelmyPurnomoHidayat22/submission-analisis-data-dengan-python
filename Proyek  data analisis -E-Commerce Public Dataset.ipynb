{
  "cells": [
    {
      "cell_type": "markdown",
      "metadata": {
        "id": "view-in-github",
        "colab_type": "text"
      },
      "source": [
        "<a href=\"https://colab.research.google.com/github/HelmyPurnomoHidayat22/submission-analisis-data-dengan-python/blob/main/Proyek%20%20data%20analisis%20-E-Commerce%20Public%20Dataset.ipynb\" target=\"_parent\"><img src=\"https://colab.research.google.com/assets/colab-badge.svg\" alt=\"Open In Colab\"/></a>"
      ]
    },
    {
      "cell_type": "markdown",
      "metadata": {
        "id": "H9wADwK78DCz"
      },
      "source": [
        "# Proyek Analisis Data: [E-Commerce Public Dataset]\n",
        "- **Nama:** [Helmy Purnomo Hidayat]\n",
        "- **Email:** [helmypurnomo234@gmail.com]\n",
        "- **ID Dicoding:** [\n",
        "Helmy Purnomo Hidayat]"
      ]
    },
    {
      "cell_type": "markdown",
      "source": [],
      "metadata": {
        "id": "Ya3zEKx8cU6a"
      }
    },
    {
      "cell_type": "markdown",
      "metadata": {
        "id": "eE0raob58DC0"
      },
      "source": [
        "## Menentukan Pertanyaan Bisnis"
      ]
    },
    {
      "cell_type": "markdown",
      "metadata": {
        "id": "GmQeQ5YF8DC0"
      },
      "source": [
        "- Apakah anda terkendala mengenai data penjualan tahunan?\n",
        "- Bagaimana anda melaporkan  data penjualan tahunan?"
      ]
    },
    {
      "cell_type": "markdown",
      "metadata": {
        "id": "H-z4QGlO8DC1"
      },
      "source": [
        "## Import Semua Packages/Library yang Digunakan"
      ]
    },
    {
      "cell_type": "code",
      "execution_count": null,
      "metadata": {
        "id": "FVYwaObI8DC1"
      },
      "outputs": [],
      "source": [
        "import pandas as pd\n",
        "import matplotlib.pyplot as plt\n",
        "import seaborn as sns\n",
        "import numpy as np\n",
        "from datetime import datetime\n"
      ]
    },
    {
      "cell_type": "markdown",
      "metadata": {
        "id": "sXU2GBYu8DC1"
      },
      "source": [
        "### Gathering Data"
      ]
    },
    {
      "cell_type": "code",
      "execution_count": null,
      "metadata": {
        "id": "zjCBk1BI8DC1"
      },
      "outputs": [],
      "source": [
        "# Load datasets\n",
        "customers = pd.read_csv('olist_customers_dataset.csv')\n",
        "orders = pd.read_csv('olist_orders_dataset.csv')\n",
        "payments = pd.read_csv('olist_order_payments_dataset.csv')\n",
        "\n",
        "# Gabungkan dataset\n",
        "merged_data = pd.merge(customers, orders, on='customer_id')\n",
        "merged_data = pd.merge(merged_data, payments, on='order_id')\n",
        "\n",
        "# Tambahkan kolom tanggal\n",
        "merged_data['order_purchase_timestamp'] = pd.to_datetime(merged_data['order_purchase_timestamp'])\n",
        "\n",
        "# Menampilkan beberapa baris pertama dari data\n",
        "merged_data.head()\n"
      ]
    },
    {
      "cell_type": "markdown",
      "metadata": {
        "id": "FHSiqaZp8DC1"
      },
      "source": [
        "### Assessing Data"
      ]
    },
    {
      "cell_type": "code",
      "source": [
        "# Assessing Data\n",
        "print(merged_data.info())  # Melihat tipe data dan missing values\n",
        "print(merged_data.isnull().sum())  # Mengidentifikasi missing values\n",
        "print(merged_data.duplicated().sum())  # Mengecek duplikasi\n",
        "\n",
        "# Cleaning Data\n",
        "merged_data.dropna(inplace=True)  # Menghapus missing values\n",
        "merged_data.drop_duplicates(inplace=True)  # Menghapus duplikasi\n",
        "merged_data['order_purchase_timestamp'] = pd.to_datetime(merged_data['order_purchase_timestamp'])  # Konversi tipe data\n"
      ],
      "metadata": {
        "id": "ax-3tEjc9Cj1"
      },
      "execution_count": null,
      "outputs": []
    },
    {
      "cell_type": "markdown",
      "metadata": {
        "id": "EhN5R4hr8DC1"
      },
      "source": [
        "### Cleaning Data"
      ]
    },
    {
      "cell_type": "code",
      "source": [
        "# Menghapus baris yang memiliki missing values\n",
        "cleaned_data = merged_data.dropna()\n",
        "\n",
        "# Mengisi missing values dengan nilai rata-rata (misal untuk kolom numerik)\n",
        "merged_data['payment_value'].fillna(merged_data['payment_value'].mean(), inplace=True)\n",
        "\n",
        "# Menghapus duplikasi\n",
        "cleaned_data = merged_data.drop_duplicates()\n",
        "\n",
        "# Mengubah tipe data jika tidak sesuai (misal kolom tanggal harus dalam datetime format)\n",
        "merged_data['order_purchase_timestamp'] = pd.to_datetime(merged_data['order_purchase_timestamp'])\n",
        "\n",
        "# Menangani outliers dengan menghapus data yang berada di luar rentang tertentu\n",
        "cleaned_data = merged_data[(merged_data['payment_value'] > 0) & (merged_data['payment_value'] < 10000)]\n"
      ],
      "metadata": {
        "id": "jVnYpprE9Evz"
      },
      "execution_count": null,
      "outputs": []
    },
    {
      "cell_type": "markdown",
      "metadata": {
        "id": "gp-Y6wU38DC1"
      },
      "source": [
        "## Exploratory Data Analysis (EDA)"
      ]
    },
    {
      "cell_type": "code",
      "source": [
        "# Melihat deskripsi umum dari data\n",
        "merged_data.describe()\n",
        "\n",
        "# Memeriksa missing values\n",
        "merged_data.isnull().sum()\n",
        "\n",
        "# Melihat distribusi pelanggan berdasarkan kota\n",
        "location_distribution = merged_data['customer_city'].value_counts()\n",
        "location_distribution.head()\n"
      ],
      "metadata": {
        "id": "_-4LKEDjklfj"
      },
      "execution_count": null,
      "outputs": []
    },
    {
      "cell_type": "markdown",
      "metadata": {
        "id": "zsyZjqak8DC2"
      },
      "source": [
        "## Visualization & Explanatory Analysis"
      ]
    },
    {
      "cell_type": "code",
      "source": [
        "# Fungsi untuk menampilkan visualisasi sesuai dengan pilihan\n",
        "def plot_visualizations(chart_type):\n",
        "    if chart_type == 'Diagram Garis':\n",
        "        # Diagram Garis\n",
        "        plt.figure(figsize=(10, 6))\n",
        "        merged_data.groupby('order_purchase_timestamp')['order_id'].count().plot(kind='line')\n",
        "        plt.title('Jumlah Pesanan per Hari')\n",
        "        plt.xlabel('Tanggal')\n",
        "        plt.ylabel('Jumlah Pesanan')\n",
        "        plt.show()\n",
        "\n",
        "    elif chart_type == 'Diagram Lingkaran':\n",
        "        # Diagram Lingkaran\n",
        "        plt.figure(figsize=(8, 8))\n",
        "        payment_analysis = merged_data.groupby('payment_type')['order_id'].count()\n",
        "        plt.pie(payment_analysis, labels=payment_analysis.index, autopct='%1.1f%%')\n",
        "        plt.title('Distribusi Metode Pembayaran')\n",
        "        plt.show()\n",
        "\n",
        "    elif chart_type == 'Histogram':\n",
        "        # Histogram\n",
        "        plt.figure(figsize=(10, 6))\n",
        "        plt.hist(merged_data['payment_value'], bins=30)\n",
        "        plt.title('Distribusi Nilai Pembayaran')\n",
        "        plt.xlabel('Nilai Pembayaran')\n",
        "        plt.ylabel('Frekuensi')\n",
        "        plt.show()\n",
        "\n",
        "    elif chart_type == 'Diagram Pencar':\n",
        "        # Diagram Pencar (Scatter)\n",
        "        plt.figure(figsize=(10, 6))\n",
        "        plt.scatter(merged_data['payment_value'], merged_data['order_id'])\n",
        "        plt.title('Diagram Pencar: Nilai Pembayaran vs Pesanan')\n",
        "        plt.xlabel('Nilai Pembayaran')\n",
        "        plt.ylabel('Jumlah Pesanan')\n",
        "        plt.show()\n",
        "\n",
        "    elif chart_type == 'Diagram Kotak Garis':\n",
        "        # Diagram Kotak Garis (Box Plot)\n",
        "        plt.figure(figsize=(10, 6))\n",
        "        sns.boxplot(x='payment_type', y='payment_value', data=merged_data)\n",
        "        plt.title('Distribusi Nilai Pembayaran Berdasarkan Metode Pembayaran')\n",
        "        plt.xlabel('Metode Pembayaran')\n",
        "        plt.ylabel('Nilai Pembayaran')\n",
        "        plt.show()\n",
        "\n",
        "    elif chart_type == 'Diagram Pareto':\n",
        "        # Diagram Pareto\n",
        "        payment_counts = merged_data['payment_type'].value_counts()\n",
        "        payment_cumsum = payment_counts.cumsum() / payment_counts.sum() * 100\n",
        "        fig, ax = plt.subplots()\n",
        "        ax.bar(payment_counts.index, payment_counts.values, color=\"C0\")\n",
        "        ax2 = ax.twinx()\n",
        "        ax2.plot(payment_counts.index, payment_cumsum, color=\"C1\", marker=\"D\", ms=7)\n",
        "        ax.set_xlabel('Metode Pembayaran')\n",
        "        ax.set_ylabel('Jumlah Pesanan')\n",
        "        ax2.set_ylabel('Persentase Kumulatif')\n",
        "        plt.title('Diagram Pareto: Metode Pembayaran')\n",
        "        plt.show()\n",
        "\n",
        "    elif chart_type == 'Diagram Jaring Laba-laba':\n",
        "        # Diagram Jaring Laba-laba (Radar Chart)\n",
        "        categories = ['Credit Card', 'Debit', 'PayPal', 'Transfer Bank']\n",
        "        values = [320, 250, 150, 80]\n",
        "        values += values[:1]\n",
        "        angles = np.linspace(0, 2 * np.pi, len(categories), endpoint=False).tolist()\n",
        "        angles += angles[:1]\n",
        "\n",
        "        fig, ax = plt.subplots(figsize=(6, 6), subplot_kw=dict(polar=True))\n",
        "        ax.fill(angles, values, color='teal', alpha=0.25)\n",
        "        ax.plot(angles, values, color='teal', linewidth=2)\n",
        "        ax.set_yticklabels([])\n",
        "        ax.set_xticks(angles[:-1])\n",
        "        ax.set_xticklabels(categories)\n",
        "        plt.title('Diagram Jaring Laba-laba: Metode Pembayaran')\n",
        "        plt.show()\n",
        "\n",
        "# Contoh pemanggilan fungsi untuk visualisasi diagram garis\n",
        "plot_visualizations('Diagram Garis')\n"
      ],
      "metadata": {
        "id": "DnOf0Hi0fjoc"
      },
      "execution_count": null,
      "outputs": []
    },
    {
      "cell_type": "code",
      "execution_count": null,
      "metadata": {
        "id": "1swJUdAD8DC2"
      },
      "outputs": [],
      "source": []
    },
    {
      "cell_type": "markdown",
      "metadata": {
        "id": "DgHI7CiU8DC2"
      },
      "source": [
        "### Pertanyaan 2:"
      ]
    },
    {
      "cell_type": "markdown",
      "source": [
        "## Analisis Lanjutan (Opsional)"
      ],
      "metadata": {
        "id": "9y4VUsmcYNZ5"
      }
    },
    {
      "cell_type": "code",
      "source": [
        "# Contoh analisis korelasi\n",
        "correlation = merged_data[['payment_value', 'order_id']].corr()\n",
        "sns.heatmap(correlation, annot=True, cmap='coolwarm')\n",
        "plt.title('Korelasi Nilai Pembayaran dan Jumlah Pesanan')\n",
        "plt.show()\n"
      ],
      "metadata": {
        "id": "iWhnzsJGYUCO"
      },
      "execution_count": null,
      "outputs": []
    },
    {
      "cell_type": "markdown",
      "metadata": {
        "id": "_WeHlCeX8DC2"
      },
      "source": [
        "## Conclusion"
      ]
    },
    {
      "cell_type": "markdown",
      "metadata": {
        "id": "ZTcyR48Y8DC2"
      },
      "source": [
        "Terdapat korelasi positif antara nilai pembayaran dan jumlah pesanan"
      ]
    }
  ],
  "metadata": {
    "kernelspec": {
      "display_name": "Python 3",
      "language": "python",
      "name": "python3"
    },
    "language_info": {
      "name": "python",
      "version": "3.8.0 (tags/v3.8.0:fa919fd, Oct 14 2019, 19:21:23) [MSC v.1916 32 bit (Intel)]"
    },
    "orig_nbformat": 4,
    "vscode": {
      "interpreter": {
        "hash": "972b3bf27e332e87b5379f2791f6ef9dfc79c71018c370b0d7423235e20fe4d7"
      }
    },
    "colab": {
      "provenance": [],
      "include_colab_link": true
    }
  },
  "nbformat": 4,
  "nbformat_minor": 0
}